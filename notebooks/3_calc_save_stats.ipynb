{
 "cells": [
  {
   "cell_type": "markdown",
   "id": "d067b0a9-924e-4624-90a2-46ffef7deeca",
   "metadata": {},
   "source": [
    "# Aggregate Statistics"
   ]
  },
  {
   "cell_type": "markdown",
   "id": "df3f0684-d586-4ab3-bc2e-71049bd36fb7",
   "metadata": {},
   "source": [
    "This notebook aggregates 1D and 2D binned statistics needed for further analysis and figures. "
   ]
  },
  {
   "cell_type": "markdown",
   "id": "226886d6-cdbe-415e-898e-f66abb69d406",
   "metadata": {
    "jp-MarkdownHeadingCollapsed": true,
    "tags": []
   },
   "source": [
    "## Import Necessary Packages"
   ]
  },
  {
   "cell_type": "code",
   "execution_count": 1,
   "id": "fba6191d-0e3a-4d06-9b20-b2cf5967515b",
   "metadata": {},
   "outputs": [],
   "source": [
    "import warnings\n",
    "import numpy as np\n",
    "import xarray as xr\n",
    "from datetime import datetime\n",
    "warnings.filterwarnings('ignore')"
   ]
  },
  {
   "cell_type": "markdown",
   "id": "94938f29-9b96-4c40-bb8b-aeaf73ccba81",
   "metadata": {
    "jp-MarkdownHeadingCollapsed": true,
    "tags": []
   },
   "source": [
    "## User-Defined Fields"
   ]
  },
  {
   "cell_type": "code",
   "execution_count": 5,
   "id": "6bd25cf9-38d2-46d6-954b-c5a4f6af9549",
   "metadata": {},
   "outputs": [],
   "source": [
    "AUTHOR    = 'Savannah L. Ferretti'\n",
    "EMAIL     = 'savannah.ferretti@uci.edu'\n",
    "FILEDIR   = '/ocean/projects/atm200007p/sferrett/Repos/monsoon-pr/data/interim'\n",
    "SAVEDIR   = '/ocean/projects/atm200007p/sferrett/Repos/monsoon-pr/data/processed'\n",
    "REGIONS   = {\n",
    "    'Eastern Arabian Sea':{'latmin':9.,'latmax':19.5,'lonmin':64.,'lonmax':72.}, \n",
    "    'Central India':{'latmin':18.,'latmax':24.,'lonmin':76.,'lonmax':83.},\n",
    "    'Central Bay of Bengal':{'latmin':9.,'latmax':14.5,'lonmin':86.5,'lonmax':90.},\n",
    "    'Equatorial Indian Ocean':{'latmin':5.,'latmax':10.,'lonmin':62.,'lonmax':67.5},\n",
    "    'Northwestern Coast':{'latmin':15.,'latmax':19.5,'lonmin':69.,'lonmax':72.5}} \n",
    "BINPARAMS = {\n",
    "    'bl':{'min':-0.6,'max':0.1,'width':0.0025},\n",
    "    'cape':{'min':-70.,'max':20.,'width':1.},\n",
    "    'subsat':{'min':-20.,'max':70.,'width':1.}}\n",
    "PRTHRESH  = 0.25\n",
    "MONTHS    = [6,7,8]"
   ]
  },
  {
   "cell_type": "markdown",
   "id": "2a2b5156-b2c9-4f1f-ae3a-746eee627121",
   "metadata": {
    "jp-MarkdownHeadingCollapsed": true,
    "tags": []
   },
   "source": [
    "## Import Data"
   ]
  },
  {
   "cell_type": "markdown",
   "id": "92a190cf-fe00-4ed7-8533-011b0a5f08e8",
   "metadata": {},
   "source": [
    "Load in the precipitation-buoyancy data, and mask out non-precipitating points (set by ```PRTHRESH```)."
   ]
  },
  {
   "cell_type": "code",
   "execution_count": 6,
   "id": "7325fd34-ab8b-482c-a97e-0a61a6eb3b55",
   "metadata": {},
   "outputs": [],
   "source": [
    "def apply_precipitating_mask(data,prthresh=PRTHRESH):\n",
    "    return data.where(data.pr>prthresh)\n",
    "\n",
    "def open_dataset(filename,filedir=FILEDIR):\n",
    "    filepath = f'{filedir}/{filename}'\n",
    "    ds = xr.open_mfdataset(filepath)\n",
    "    return ds.load()"
   ]
  },
  {
   "cell_type": "code",
   "execution_count": 7,
   "id": "53f58790-3539-4b40-aada-3359299a42fc",
   "metadata": {},
   "outputs": [],
   "source": [
    "data = open_dataset('OBS_bl-pr_*.nc')\n",
    "data = apply_precipitating_mask(data)"
   ]
  },
  {
   "cell_type": "markdown",
   "id": "376d43bf-fbef-4813-9665-0aca319985ff",
   "metadata": {
    "jp-MarkdownHeadingCollapsed": true,
    "tags": []
   },
   "source": [
    "## Functions for Calculating Binned Statistics"
   ]
  },
  {
   "cell_type": "markdown",
   "id": "853865a6-7366-4353-a8a3-91f7ab060fdd",
   "metadata": {
    "jp-MarkdownHeadingCollapsed": true,
    "tags": []
   },
   "source": [
    "### Subset Region and Month"
   ]
  },
  {
   "cell_type": "markdown",
   "id": "70e32aec-ae54-4f53-8f02-c654fc104c90",
   "metadata": {},
   "source": [
    "Subset the loaded dataset by the region of interest, and subset temporally for data withinn a specific month."
   ]
  },
  {
   "cell_type": "code",
   "execution_count": 8,
   "id": "8d16ec2e-e6a7-4700-9819-366000748cf5",
   "metadata": {},
   "outputs": [],
   "source": [
    "def get_region(data,key,regions=REGIONS):\n",
    "    region = regions[key]\n",
    "    return data.sel(lat=slice(region['latmin'],region['latmax']),lon=slice(region['lonmin'],region['lonmax']))\n",
    "\n",
    "def get_month(data,month):\n",
    "    return data.sel(time=data.time.dt.month==month)"
   ]
  },
  {
   "cell_type": "markdown",
   "id": "b155a224-5139-41b6-a1df-0f09e012bacc",
   "metadata": {
    "jp-MarkdownHeadingCollapsed": true,
    "tags": []
   },
   "source": [
    "### Calculate Binned Statistics"
   ]
  },
  {
   "cell_type": "markdown",
   "id": "6cba22c7-8c08-463d-8131-55e2c24c991c",
   "metadata": {},
   "source": [
    "Establish 1D ($B_L$) and 2D (joint $\\text{SUBSAT}_\\text{L}$-$\\text{CAPE}_\\text{L}$) bins for which to aggregate statistics: count of precipitating data points, sum of precipitation values, and  sum of squared precipitation values in each 1D and 2D bin."
   ]
  },
  {
   "cell_type": "code",
   "execution_count": 9,
   "id": "18641021-7114-4fd8-9b10-6694d3165f70",
   "metadata": {},
   "outputs": [],
   "source": [
    "def get_bin_edges(key,binparams=BINPARAMS):\n",
    "    varname  = binparams[key]\n",
    "    binedges = np.arange(varname['min'],varname['max']+varname['width'],varname['width'])\n",
    "    return binedges\n",
    "\n",
    "def calc_binned_stats(data,binparams=BINPARAMS,prthresh=PRTHRESH,author=AUTHOR,email=EMAIL):\n",
    "    blbins      = get_bin_edges('bl')\n",
    "    capebins    = get_bin_edges('cape')\n",
    "    subsatbins  = get_bin_edges('subsat')\n",
    "    blidxs      = ((data.bl.values-binparams['bl']['min'])/(binparams['bl']['width'])+0.5).astype(int)\n",
    "    capeidxs    = ((data.cape.values-binparams['cape']['min'])/binparams['cape']['width']-0.5).astype(int)\n",
    "    subsatidxs  = ((data.subsat.values-binparams['subsat']['min'])/binparams['subsat']['width']-0.5).astype(int)\n",
    "    nblbins     = blbins.size\n",
    "    ncapebins   = capebins.size\n",
    "    nsubsatbins = subsatbins.size\n",
    "    Q0 = np.zeros((nblbins))\n",
    "    QE = np.zeros((nblbins))\n",
    "    Q1 = np.zeros((nblbins))\n",
    "    Q2 = np.zeros((nblbins))\n",
    "    P0 = np.zeros((nsubsatbins,ncapebins))\n",
    "    PE = np.zeros((nsubsatbins,ncapebins))\n",
    "    P1 = np.zeros((nsubsatbins,ncapebins))\n",
    "    P2 = np.zeros((nsubsatbins,ncapebins))\n",
    "    for timeidx in range(len(data.time)):\n",
    "        for latidx in range(len(data.lat)):\n",
    "            for lonidx in range(len(data.lon)):\n",
    "                prval       = data.pr.values[timeidx,latidx,lonidx]\n",
    "                blidx       = blidxs[timeidx,latidx,lonidx]\n",
    "                capeidx     = capeidxs[timeidx,latidx,lonidx]\n",
    "                subsatidx   = subsatidxs[timeidx,latidx,lonidx]\n",
    "                validpr     = np.isfinite(prval)\n",
    "                validbl     = (0<=blidx<nblbins)\n",
    "                validcape   = (0<=capeidx<ncapebins)\n",
    "                validsubsat = (0<=subsatidx<nsubsatbins)\n",
    "                if validbl & validpr:\n",
    "                    Q0[blidx] += 1 \n",
    "                    Q1[blidx] += prval\n",
    "                    Q2[blidx] += prval**2\n",
    "                    if prval > prthresh:\n",
    "                        QE[blidx] += 1\n",
    "                if validcape & validsubsat & validpr:\n",
    "                    P0[subsatidx,capeidx] += 1\n",
    "                    P1[subsatidx,capeidx] += prval\n",
    "                    P2[subsatidx,capeidx] += prval**2\n",
    "                    if prval > prthresh:\n",
    "                        PE[subsatidx,capeidx] += 1\n",
    "    ds = xr.Dataset(data_vars={'Q0':(('bl'),Q0),'QE':(('bl'),QE),'Q1':(('bl'),Q1),'Q2':(('bl'),Q2),\n",
    "                               'P0':(('subsat','cape'),P0),'PE':(('subsat','cape'),PE),\n",
    "                               'P1':(('subsat','cape'),P1),'P2':(('subsat','cape'),P2)},\n",
    "                          coords={'subsat':subsatbins,'cape':capebins,'bl':blbins})\n",
    "    ds.Q0.attrs     = dict(long_name='Count of points in each bin')\n",
    "    ds.QE.attrs     = dict(long_name=f'Count of precipitating ( > {prthresh} mm/day) points in each bin')\n",
    "    ds.Q1.attrs     = dict(long_name='Sum of precipitation in each bin',units='mm/day')\n",
    "    ds.Q2.attrs     = dict(long_name='Sum of squared precipitation in each bin',units='mm²/day²')\n",
    "    ds.P0.attrs     = dict(long_name='Count of points in each bin')\n",
    "    ds.PE.attrs     = dict(long_name=f'Count of precipitating ( > {prthresh} mm/day) points in each bin')\n",
    "    ds.P1.attrs     = dict(long_name='Sum of precipitation in each bin',units='mm/day')\n",
    "    ds.P2.attrs     = dict(long_name='Sum of squared precipitation in each bin',units='mm²/day²')\n",
    "    ds.cape.attrs   = dict(long_name='Undilute plume buoyancy',units='K')\n",
    "    ds.subsat.attrs = dict(long_name='Subsaturation in the lower free-troposphere',units='K')\n",
    "    ds.bl.attrs     = dict(long_name='Average buoyancy in the lower troposphere',units='m/s²')\n",
    "    ds.attrs        = dict(history=f'Created on {datetime.today().strftime(\"%Y-%m-%d\")} by {author} ({email})')\n",
    "    return ds"
   ]
  },
  {
   "cell_type": "markdown",
   "id": "3946cb6f-e934-4c89-af35-194e64ae9f74",
   "metadata": {
    "jp-MarkdownHeadingCollapsed": true,
    "tags": []
   },
   "source": [
    "## Execute Calculations"
   ]
  },
  {
   "cell_type": "markdown",
   "id": "fd9c700d-8b26-4334-9279-4b87d99623bf",
   "metadata": {},
   "source": [
    "Calculate binned statistics for each month separately, and aggregate for each region."
   ]
  },
  {
   "cell_type": "code",
   "execution_count": 10,
   "id": "9dfb3fc0-272d-4d2a-a954-2155a6d8f88b",
   "metadata": {},
   "outputs": [
    {
     "name": "stdout",
     "output_type": "stream",
     "text": [
      "Eastern Arabian Sea\n",
      "  Binning statistics for month 6...\n",
      "  Binning statistics for month 7...\n",
      "  Binning statistics for month 8...\n",
      "Central India\n",
      "  Binning statistics for month 6...\n",
      "  Binning statistics for month 7...\n",
      "  Binning statistics for month 8...\n",
      "Central Bay of Bengal\n",
      "  Binning statistics for month 6...\n",
      "  Binning statistics for month 7...\n",
      "  Binning statistics for month 8...\n",
      "Equatorial Indian Ocean\n",
      "  Binning statistics for month 6...\n",
      "  Binning statistics for month 7...\n",
      "  Binning statistics for month 8...\n",
      "Northwestern Coast\n",
      "  Binning statistics for month 6...\n",
      "  Binning statistics for month 7...\n",
      "  Binning statistics for month 8...\n"
     ]
    }
   ],
   "source": [
    "regionstatslist = []\n",
    "for region in REGIONS:\n",
    "    print(f'{region}')\n",
    "    regiondata     = get_region(data,region)\n",
    "    monthstatslist = []\n",
    "    for month in MONTHS:\n",
    "        print(f'  Binning statistics for month {month}...')\n",
    "        monthdata  = get_month(regiondata,month)\n",
    "        monthstats = calc_binned_stats(monthdata)\n",
    "        monthstatslist.append(monthstats.expand_dims({'month':[month]}))\n",
    "    regionstats = xr.concat(monthstatslist,dim='month')\n",
    "    regionstatslist.append(regionstats.expand_dims({'region':[region]}))"
   ]
  },
  {
   "cell_type": "markdown",
   "id": "5ea77c58-efa1-4404-aca6-6942899f3dab",
   "metadata": {
    "jp-MarkdownHeadingCollapsed": true,
    "tags": []
   },
   "source": [
    "## Save Dataset"
   ]
  },
  {
   "cell_type": "markdown",
   "id": "b3606d20-20cf-422e-a22b-81fcf661be4b",
   "metadata": {},
   "source": [
    "Put all regions into a singular Xarray.Dataset, and save as a netCDF file to the user-defined save directory (```SAVEDIR```)."
   ]
  },
  {
   "cell_type": "code",
   "execution_count": 11,
   "id": "c45dfedb-0687-45cb-a11b-f3cf46ef070c",
   "metadata": {},
   "outputs": [],
   "source": [
    "def save(ds,filename,savedir=SAVEDIR):\n",
    "    filepath = f'{savedir}/{filename}'\n",
    "    ds.to_netcdf(filepath)"
   ]
  },
  {
   "cell_type": "code",
   "execution_count": 14,
   "id": "8097609f-f081-49ec-a886-88cd4b666171",
   "metadata": {},
   "outputs": [],
   "source": [
    "finalstats = xr.concat(regionstatslist,dim='region')\n",
    "save(finalstats,'binned_stats_new.nc')"
   ]
  }
 ],
 "metadata": {
  "kernelspec": {
   "display_name": "monsoon-pr",
   "language": "python",
   "name": "monsoon-pr"
  },
  "language_info": {
   "codemirror_mode": {
    "name": "ipython",
    "version": 3
   },
   "file_extension": ".py",
   "mimetype": "text/x-python",
   "name": "python",
   "nbconvert_exporter": "python",
   "pygments_lexer": "ipython3",
   "version": "3.9.12"
  }
 },
 "nbformat": 4,
 "nbformat_minor": 5
}
