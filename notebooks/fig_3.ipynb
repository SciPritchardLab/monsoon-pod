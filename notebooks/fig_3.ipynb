{
 "cells": [
  {
   "cell_type": "code",
   "execution_count": null,
   "id": "6d648453-b4bc-4832-9e18-74ab66daf750",
   "metadata": {},
   "outputs": [],
   "source": [
    "import warnings\n",
    "import numpy as np\n",
    "import xarray as xr\n",
    "import proplot as pplt\n",
    "import scipy.stats as stats\n",
    "from scipy.optimize import curve_fit\n",
    "pplt.rc.reso='hi'\n",
    "warnings.filterwarnings('ignore')"
   ]
  },
  {
   "cell_type": "code",
   "execution_count": null,
   "id": "01d4d48f-85e8-4d16-9ccf-586ceaec1d96",
   "metadata": {},
   "outputs": [],
   "source": [
    "REGIONS = {\n",
    "    'Eastern Arabian Sea':{'latmin':9.,'latmax':18.,'lonmin':67.,'lonmax':72.5}, \n",
    "    'Central India':{'latmin':18.,'latmax':24.,'lonmin':76.,'lonmax':83.},\n",
    "    'Northern Bay of Bengal':{'latmin':18.,'latmax':21.5,'lonmin':87.5,'lonmax':90.},\n",
    "    'Central Bay of Bengal':{'latmin':8.5,'latmax':15.,'lonmin':86.,'lonmax':90.}} \n",
    "FILEDIR = '/ocean/projects/atm200007p/sferrett/Repos/monsoon-pr/data/'\n",
    "SAVEDIR = '/ocean/projects/atm200007p/sferrett/Repos/monsoon-pr/figs'\n",
    "CASES   = [(6,'June','#D42028'),(7,'July','#F2C85E'),(8,'August','#5BA7DA')] # Old yellow: #FDD778\n",
    "SAMPLETHRESH = 50"
   ]
  },
  {
   "cell_type": "code",
   "execution_count": null,
   "id": "5d840e1f-6954-486c-8212-9f7c7ba53d49",
   "metadata": {},
   "outputs": [],
   "source": [
    "def open_dataset(filename,multi=False,filedir=FILEDIR):\n",
    "    filepath = f'{filedir}/{filename}'\n",
    "    if multi==True:\n",
    "        ds = xr.open_mfdataset(filepath)\n",
    "    else:\n",
    "        ds = xr.open_dataset(filepath)\n",
    "    return ds\n",
    "\n",
    "ds1 = open_dataset('processed/binned_stats.nc')\n",
    "ds2 = open_dataset('interim/OBS_bl-pr_*.nc',multi=True)"
   ]
  }
 ],
 "metadata": {
  "kernelspec": {
   "display_name": "monsoon-pr",
   "language": "python",
   "name": "monsoon-pr"
  },
  "language_info": {
   "codemirror_mode": {
    "name": "ipython",
    "version": 3
   },
   "file_extension": ".py",
   "mimetype": "text/x-python",
   "name": "python",
   "nbconvert_exporter": "python",
   "pygments_lexer": "ipython3",
   "version": "3.9.12"
  }
 },
 "nbformat": 4,
 "nbformat_minor": 5
}
