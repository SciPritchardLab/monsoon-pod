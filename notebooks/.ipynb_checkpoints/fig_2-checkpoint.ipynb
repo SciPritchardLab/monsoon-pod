{
 "cells": [
  {
   "cell_type": "markdown",
   "id": "226886d6-cdbe-415e-898e-f66abb69d406",
   "metadata": {
    "jp-MarkdownHeadingCollapsed": true,
    "tags": []
   },
   "source": [
    "## Import Necessary Packages"
   ]
  },
  {
   "cell_type": "code",
   "execution_count": 13,
   "id": "fba6191d-0e3a-4d06-9b20-b2cf5967515b",
   "metadata": {},
   "outputs": [],
   "source": [
    "import warnings\n",
    "import numpy as np\n",
    "import xarray as xr\n",
    "import proplot as pplt\n",
    "pplt.rc.reso='hi'\n",
    "warnings.filterwarnings('ignore')"
   ]
  },
  {
   "cell_type": "markdown",
   "id": "94938f29-9b96-4c40-bb8b-aeaf73ccba81",
   "metadata": {
    "jp-MarkdownHeadingCollapsed": true,
    "tags": []
   },
   "source": [
    "## User-Defined Fields"
   ]
  },
  {
   "cell_type": "code",
   "execution_count": 22,
   "id": "6bd25cf9-38d2-46d6-954b-c5a4f6af9549",
   "metadata": {},
   "outputs": [],
   "source": [
    "REGIONS   = {\n",
    "    'Eastern Arabian Sea':{'latmin':9.,'latmax':18.,'lonmin':67.,'lonmax':72.5}, \n",
    "    'Central India':{'latmin':18.,'latmax':24.,'lonmin':76.,'lonmax':83.},\n",
    "    'Northern Bay of Bengal':{'latmin':18.,'latmax':21.5,'lonmin':87.5,'lonmax':90.},\n",
    "    'Central Bay of Bengal':{'latmin':8.5,'latmax':15.,'lonmin':86.,'lonmax':90.}} \n",
    "BINPARAMS = {\n",
    "    'bl':{'min':-0.6,'max':0.1,'width':0.0025},\n",
    "    'cape':{'min':-70.,'max':20.,'width':1.},\n",
    "    'subsat':{'min':-20.,'max':70.,'width':1.}}\n",
    "FILEDIR   = '/ocean/projects/atm200007p/sferrett/Repos/monsoon-pr/data/processed'\n",
    "PRTHRESH  = 0.25\n",
    "NUMTHRESH = 50\n",
    "CASES     = [(6,'June','red6'),(7,'July','green6'),(8,'August','blue6')]"
   ]
  },
  {
   "cell_type": "markdown",
   "id": "2a2b5156-b2c9-4f1f-ae3a-746eee627121",
   "metadata": {
    "jp-MarkdownHeadingCollapsed": true,
    "tags": []
   },
   "source": [
    "## Import Data"
   ]
  },
  {
   "cell_type": "code",
   "execution_count": 23,
   "id": "7325fd34-ab8b-482c-a97e-0a61a6eb3b55",
   "metadata": {},
   "outputs": [],
   "source": [
    "def convert_common_units(ds):\n",
    "    coeff = 9.8/(3*340)\n",
    "    dims  = ['time','lat','lon']\n",
    "    newds = xr.Dataset(\n",
    "    data_vars=dict(\n",
    "        pr=(dims,ds.pr.data),\n",
    "        bl=(dims,ds.bl.data),\n",
    "        cape=(dims,(coeff*ds.wb.data*ds.cape.data)),\n",
    "        subsat=(dims,(coeff*ds.wl.data*ds.subsat.data))),\n",
    "    coords=dict(time=ds.time.data,lat=ds.lat.data,lon=ds.lon.data))\n",
    "    return newds\n",
    "\n",
    "def apply_precipitating_mask(data,prthresh=PRTHRESH):\n",
    "    return data.where(data.pr>prthresh)\n",
    "\n",
    "def open_dataset(filename,precipitating=False,convertunits=False,prthresh=PRTHRESH,filedir=FILEDIR):\n",
    "    filepath = f'{filedir}/{filename}'\n",
    "    ds = xr.open_mfdataset(filepath)\n",
    "    if precipitating==True:\n",
    "        ds = apply_precipitating_mask(ds)\n",
    "    if convertunits==True:\n",
    "        ds = convert_common_units(ds)\n",
    "    return ds\n",
    "\n",
    "def get_region(data,key,regions=REGIONS):\n",
    "    region = regions[key]\n",
    "    return data.sel(lat=slice(region['latmin'],region['latmax']),lon=slice(region['lonmin'],region['lonmax']))\n",
    "\n",
    "def get_month(data,month):\n",
    "    return data.sel(time=data.time.dt.month==month)"
   ]
  },
  {
   "cell_type": "code",
   "execution_count": 24,
   "id": "53f58790-3539-4b40-aada-3359299a42fc",
   "metadata": {},
   "outputs": [],
   "source": [
    "data = open_dataset('OBS_bl-pr_*.nc',precipitating=True).load()"
   ]
  },
  {
   "cell_type": "markdown",
   "id": "376d43bf-fbef-4813-9665-0aca319985ff",
   "metadata": {
    "jp-MarkdownHeadingCollapsed": true,
    "tags": []
   },
   "source": [
    "## Plot $\\text{P}-B_L$ Relationship"
   ]
  },
  {
   "cell_type": "code",
   "execution_count": 53,
   "id": "18641021-7114-4fd8-9b10-6694d3165f70",
   "metadata": {},
   "outputs": [],
   "source": [
    "def get_bin_edges(key,binparams=BINPARAMS):\n",
    "    varname  = binparams[key]\n",
    "    binedges = np.arange(varname['min'],varname['max']+varname['width'],varname['width'])\n",
    "    return binedges\n",
    "\n",
    "def get_binned_stats(data,binparams=BINPARAMS,prthresh=PRTHRESH):\n",
    "    blbins      = get_bin_edges('bl')\n",
    "    capebins    = get_bin_edges('cape')\n",
    "    subsatbins  = get_bin_edges('subsat')\n",
    "    blidxs      = ((data.bl.values-binparams['bl']['min'])/(binparams['bl']['width'])+0.5).astype(int)\n",
    "    capeidxs    = ((data.cape.values-binparams['cape']['min'])/binparams['cape']['width']-0.5).astype(int)\n",
    "    subsatidxs  = ((data.subsat.values-binparams['subsat']['min'])/binparams['subsat']['width']-0.5).astype(int)\n",
    "    nblbins     = blbins.size\n",
    "    ncapebins   = capebins.size\n",
    "    nsubsatbins = subsatbins.size\n",
    "    Q0 = np.zeros((nblbins))\n",
    "    Q1 = np.zeros((nblbins))\n",
    "    Q2 = np.zeros((nblbins))\n",
    "    QE = np.zeros((nblbins))\n",
    "    P0 = np.zeros((nsubsatbins,ncapebins))\n",
    "    P1 = np.zeros((nsubsatbins,ncapebins))\n",
    "    P2 = np.zeros((nsubsatbins,ncapebins))\n",
    "    PE = np.zeros((nsubsatbins,ncapebins))\n",
    "    for timeidx in range(len(data.time)):\n",
    "        for latidx in range(len(data.lat)):\n",
    "            for lonidx in range(len(data.lon)):\n",
    "                prval       = data.pr.values[timeidx,latidx,lonidx]\n",
    "                blidx       = blidxs[timeidx,latidx,lonidx]\n",
    "                capeidx     = capeidxs[timeidx,latidx,lonidx]\n",
    "                subsatidx   = subsatidxs[timeidx,latidx,lonidx]\n",
    "                validpr     = np.isfinite(prval)\n",
    "                validbl     = (0<=blidx<nblbins)\n",
    "                validcape   = (0<=capeidx<ncapebins)\n",
    "                validsubsat = (0<=subsatidx<nsubsatbins)\n",
    "                if validbl & validpr:\n",
    "                    Q0[blidx] += 1 \n",
    "                    Q1[blidx] += prval\n",
    "                    Q1[blidx] += prval**2\n",
    "                    if prval > prthresh:\n",
    "                        QE[blidx] += 1\n",
    "                if validcape & validsubsat & validpr:\n",
    "                    P0[subsatidx,capeidx] += 1\n",
    "                    P1[subsatidx,capeidx] += prval\n",
    "                    P2[subsatidx,capeidx] += prval**2\n",
    "                    if prval > prthresh:\n",
    "                        PE[subsatidx,capeidx] += 1\n",
    "    ds = xr.Dataset(data_vars={'Q0':(('bl'),Q0),'QE':(('bl'),QE),'Q1':(('bl'),Q1),'Q2':(('bl'),Q2),\n",
    "                               'P0':(('subsat','cape'),P0),'PE':(('subsat','cape'),PE),'P1':(('subsat','cape'),P1),'P2':(('subsat','cape'),P2)},\n",
    "                          coords={'subsat':subsatbins,'cape':capebins,'bl':blbins})\n",
    "    ds.Q0.attrs = dict(long_name='Count of points in each bin')\n",
    "    ds.QE.attrs = dict(long_name=f'Count of precipitating ( > {prthresh} mm/day) points in each bin')\n",
    "    ds.Q1.attrs = dict(long_name='Sum of precipitation in each bin',units='mm/day')\n",
    "    ds.Q2.attrs = dict(long_name='Sum of squared precipitation in each bin',units='mm²/day²')\n",
    "    ds.P0.attrs = dict(long_name='Count of points in each bin')\n",
    "    ds.PE.attrs = dict(long_name=f'Count of precipitating ( > {prthresh} mm/day) points in each bin')\n",
    "    ds.P1.attrs = dict(long_name='Sum of precipitation in each bin',units='mm/day')\n",
    "    ds.P2.attrs = dict(long_name='Sum of squared precipitation in each bin',units='mm²/day²')\n",
    "    return ds\n",
    "\n",
    "def get_bin_mean_pr(montthstats,numthresh=NUMTHRESH):\n",
    "    Q0 = monthstats.Q0\n",
    "    Q1 = monthstats.Q1\n",
    "    Q0[Q0==0.0] = np.nan\n",
    "    Q = Q1/Q0\n",
    "    Q[Q<numthresh] = np.nan\n",
    "    return Q"
   ]
  },
  {
   "cell_type": "code",
   "execution_count": 65,
   "id": "9f3c5eaa-c6cb-4e89-831a-2bdffc1762cd",
   "metadata": {},
   "outputs": [],
   "source": [
    "fig,axs = pplt.subplots(nrows=1,ncols=4,share=False,span=False)\n",
    "axs.format(collabels=REGIONS.keys(),xlabel='$\\mathit{B_L}$ (m/s$^2$)',ylabel='Precipitation (mm/day)')\n",
    "for i,region in enumerate(REGIONS):\n",
    "    regiondata = get_region(data,region)\n",
    "    for month,label,color in CASES:\n",
    "        monthdata  = get_month(regiondata,month)\n",
    "        monthstats = get_binned_stats(monthdata)\n",
    "        binmeanpr  = get_bin_mean_pr(monthstats)\n",
    "        axs[i].scatter(monthstats.bl,binmeanpr,color=color,alpha=0.5,label=label)\n",
    "axs[0].legend(loc='ul',ncols=1)\n",
    "pplt.show()"
   ]
  }
 ],
 "metadata": {
  "kernelspec": {
   "display_name": "monsoon-pr",
   "language": "python",
   "name": "monsoon-pr"
  },
  "language_info": {
   "codemirror_mode": {
    "name": "ipython",
    "version": 3
   },
   "file_extension": ".py",
   "mimetype": "text/x-python",
   "name": "python",
   "nbconvert_exporter": "python",
   "pygments_lexer": "ipython3",
   "version": "3.9.12"
  }
 },
 "nbformat": 4,
 "nbformat_minor": 5
}
