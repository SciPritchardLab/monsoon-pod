{
 "cells": [
  {
   "cell_type": "code",
   "execution_count": null,
   "id": "643335f0-2da1-46cc-8904-fe12a315c659",
   "metadata": {},
   "outputs": [],
   "source": [
    "import warnings\n",
    "import numpy as np\n",
    "import xarray as xr\n",
    "import proplot as pplt\n",
    "from scipy.optimize import curve_fit\n",
    "pplt.rc.reso='hi'\n",
    "warnings.filterwarnings('ignore')"
   ]
  },
  {
   "cell_type": "code",
   "execution_count": null,
   "id": "c3a34c9f-28b2-461a-905a-ac7822563246",
   "metadata": {},
   "outputs": [],
   "source": [
    "REGIONS   = {\n",
    "    'Eastern Arabian Sea':{'latmin':9.,'latmax':19.5,'lonmin':64.,'lonmax':72.}, \n",
    "    'Central India':{'latmin':18.,'latmax':24.,'lonmin':76.,'lonmax':83.},\n",
    "    'Central Bay of Bengal':{'latmin':9.,'latmax':14.5,'lonmin':86.5,'lonmax':90.},\n",
    "    'Equatorial Indian Ocean':{'latmin':5.,'latmax':10.,'lonmin':62.,'lonmax':67.5},\n",
    "    'Northwestern Coast':{'latmin':15.,'latmax':19.5,'lonmin':69.,'lonmax':72.5}} \n",
    "FILEDIR = '/ocean/projects/atm200007p/sferrett/Repos/monsoon-pr/data'\n",
    "SAVEDIR = '/ocean/projects/atm200007p/sferrett/Repos/monsoon-pr/figs'\n",
    "\n",
    "SAMPLETHRESH = 50"
   ]
  },
  {
   "cell_type": "code",
   "execution_count": null,
   "id": "f290138f-a6f2-4c04-acfc-71885048e045",
   "metadata": {},
   "outputs": [],
   "source": [
    "def open_dataset(filename,multi=False,filedir=FILEDIR):\n",
    "    filepath = f'{filedir}/{filename}'\n",
    "    if multi==True:\n",
    "        ds = xr.open_mfdataset(filepath)\n",
    "    else:\n",
    "        ds = xr.open_dataset(filepath)\n",
    "    return ds\n",
    "\n",
    "ds1 = open_dataset('processed/binned_stats.nc')\n",
    "ds2 = open_dataset('interim/OBS_bl-pr_*.nc',multi=True)"
   ]
  },
  {
   "cell_type": "code",
   "execution_count": null,
   "id": "44fa58b8-b6db-4579-ac6b-9771ea83935c",
   "metadata": {},
   "outputs": [],
   "source": [
    "def interp_from_fit(xfit,yfit,x):\n",
    "    f = get_fit(xfit,yfit)\n",
    "    y = f(x.values.flatten())\n",
    "    interped = xr.DataArray(y.reshape(x.shape),dims=x.dims,coords=x.coords)\n",
    "    return interped\n",
    "\n",
    "def get_fit(x,y):  \n",
    "    x = x.flatten()\n",
    "    y = y.flatten()\n",
    "    mask = ~np.isnan(y)\n",
    "    x = x[mask]\n",
    "    y = y[mask]\n",
    "    def expfunc(x,a,b,c):\n",
    "        return a*np.exp(b*x)+c\n",
    "    params,_  = curve_fit(f=expfunc,xdata=x,ydata=y,maxfev=20000)\n",
    "    a,b,c = params\n",
    "    f = lambda x: a*np.exp(b*x)+c\n",
    "    return f\n",
    "\n",
    "def get_bin_mean_pr(stats,bintype,samplethresh=SAMPLETHRESH):\n",
    "    if bintype=='1D':\n",
    "        Q0 = stats.Q0.values\n",
    "        Q1 = stats.Q1.values\n",
    "        Q0[Q0==0.0] = np.nan\n",
    "        Q = Q1/Q0\n",
    "        Q[Q0<samplethresh] = np.nan\n",
    "        return Q\n",
    "    if bintype=='2D':\n",
    "        P0 = stats.P0.values\n",
    "        P1 = stats.P1.values\n",
    "        P0[P0==0.0] = np.nan\n",
    "        P = P1/P0\n",
    "        P[P0<samplethresh] = np.nan\n",
    "        return P\n",
    "\n",
    "def get_region(data,key,regions=REGIONS):\n",
    "    region = regions[key]\n",
    "    return data.sel(lat=slice(region['latmin'],region['latmax']),lon=slice(region['lonmin'],region['lonmax']))\n",
    "\n",
    "def get_month(data,month):\n",
    "    return data.sel(time=data.time.dt.month==month)\n",
    "\n",
    "def calc_monthly_mean(ds):\n",
    "    return ds.groupby('time.month').mean('time').squeeze()\n",
    "\n",
    "def calc_regional_mean(ds):\n",
    "    return (ds*np.cos(np.deg2rad(ds.lat))).mean(dim=['lat','lon'])"
   ]
  },
  {
   "cell_type": "code",
   "execution_count": null,
   "id": "c06b59b3-b8e1-4e78-b1ed-d8a39601a286",
   "metadata": {},
   "outputs": [],
   "source": [
    "regions       = []\n",
    "realprlist    = []\n",
    "predprindlist = []\n",
    "predpralllist = []\n",
    "for region in REGIONS:\n",
    "    regions.append(region)\n",
    "    region1 = ds1.sel(region=region)\n",
    "    region2 = get_region(ds2,region)\n",
    "    x = region1.bl.values\n",
    "    y = get_bin_mean_pr(region1.sum(dim='month'),bintype='1D')\n",
    "    predprall = interp_from_fit(x,y,region2.bl)\n",
    "    region2 = region2.assign({'predprall':predprall})\n",
    "    monthmeanlist = []\n",
    "    for month in [6,7]:\n",
    "        month1 = region1.sel(month=month)\n",
    "        month2 = get_month(region2,month)\n",
    "        x   = month1.bl.values\n",
    "        y   = get_bin_mean_pr(month1,bintype='1D')\n",
    "        predprind = interp_from_fit(x,y,month2.bl)\n",
    "        month2 = month2.assign({'predprind':predprind})\n",
    "        monthmean = calc_monthly_mean(month2)\n",
    "        monthmeanlist.append(monthmean)        \n",
    "    diff = (monthmeanlist[1]-monthmeanlist[0])\n",
    "    realprlist.append(calc_regional_mean(diff.pr))\n",
    "    predpralllist.append(calc_regional_mean(diff.predprall))\n",
    "    predprindlist.append(calc_regional_mean(diff.predprind))"
   ]
  },
  {
   "cell_type": "code",
   "execution_count": null,
   "id": "254d4ea9-0d61-45c4-95a5-f2702f742b53",
   "metadata": {},
   "outputs": [],
   "source": [
    "fig,ax = pplt.subplots(refheight=2,refwidth=6)\n",
    "ax.format(ylabel='$\\Delta$Precipitation (mm/day)',ylim=(-10,10),yticks=5)\n",
    "ax.scatter(regions,realprlist,color='k',marker='x',s=70,linewidth=2,label='$P_{Actual}$')\n",
    "ax.scatter(regions,predprindlist,color='#5BA7DA',marker='x',s=70,label='$P_{Predicted}$ (Monthly Fit)')\n",
    "ax.scatter(regions,predpralllist,color='#D42028',marker='x',s=70,label='$P_{Predicted}$ (All-Month Fit)')\n",
    "ax.axhline(y=0,color='k',linestyle='--',linewidth=1)\n",
    "ax.legend(loc='ul',ncols=1)\n",
    "pplt.show()\n",
    "# fig.save(f'{SAVEDIR}/fig_4.png',dpi=300)"
   ]
  }
 ],
 "metadata": {
  "kernelspec": {
   "display_name": "monsoon-pr",
   "language": "python",
   "name": "monsoon-pr"
  },
  "language_info": {
   "codemirror_mode": {
    "name": "ipython",
    "version": 3
   },
   "file_extension": ".py",
   "mimetype": "text/x-python",
   "name": "python",
   "nbconvert_exporter": "python",
   "pygments_lexer": "ipython3",
   "version": "3.9.12"
  }
 },
 "nbformat": 4,
 "nbformat_minor": 5
}
