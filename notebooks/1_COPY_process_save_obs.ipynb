{
 "cells": [
  {
   "cell_type": "markdown",
   "id": "9ea55fc7-4547-4616-b7d1-f63270d7899b",
   "metadata": {},
   "source": [
    "# Download and Save Cloud Data\n",
    "\n",
    "This notebook downloads variables needed to calculate the precipitation-buoyancy POD from multiple cloud stores. The following code obtains and processes thermodynamic variables from ERA5, and precipitation from both IMERG V06 and GPCP."
   ]
  },
  {
   "cell_type": "markdown",
   "id": "9556d96a-6654-4913-a525-af2ae8ca9cbd",
   "metadata": {
    "jp-MarkdownHeadingCollapsed": true,
    "tags": []
   },
   "source": [
    "## Import Necessary Packages"
   ]
  },
  {
   "cell_type": "code",
   "execution_count": 1,
   "id": "4f38b2be-cb9b-4c5e-9472-e8ab73faa1cc",
   "metadata": {},
   "outputs": [],
   "source": [
    "import xesmf\n",
    "import gcsfs\n",
    "import fsspec\n",
    "import warnings\n",
    "import numpy as np\n",
    "import xarray as xr\n",
    "import planetary_computer\n",
    "from datetime import datetime\n",
    "import pystac_client as pystac\n",
    "warnings.filterwarnings('ignore')"
   ]
  },
  {
   "cell_type": "markdown",
   "id": "56a7e48d-6996-4a95-b182-aa23f6aa8b64",
   "metadata": {
    "jp-MarkdownHeadingCollapsed": true,
    "tags": []
   },
   "source": [
    "## User-Defined Fields"
   ]
  },
  {
   "cell_type": "markdown",
   "id": "2d061ab1-c52c-4ea7-8aee-f4ffffc0042e",
   "metadata": {},
   "source": [
    "Define user information (for data download attribution), the directory where the data should be saved to, and subsetting parameters (years, months, and latitude/longitude/pressure level ranges)."
   ]
  },
  {
   "cell_type": "code",
   "execution_count": 2,
   "id": "871799ff-87fe-41d5-ba9d-93b6b9a5b3ae",
   "metadata": {},
   "outputs": [],
   "source": [
    "AUTHOR    = 'Savannah L. Ferretti'      \n",
    "EMAIL     = 'savannah.ferretti@uci.edu' \n",
    "SAVEDIR   = '/global/cfs/cdirs/m4334/sferrett/monsoon-pod/data/raw'\n",
    "YEARS     = [2000,2001,2002,2003,2004,2005,2006,2007,2008,2009,2010,2011,2012,2013,2014,2015,2016,2017,2018,2019,2020]\n",
    "MONTHS    = [6,7,8]\n",
    "LATRANGE  = (5.,25.) \n",
    "LONRANGE  = (60.,90.)\n",
    "LEVRANGE  = (500.,1000.)"
   ]
  },
  {
   "cell_type": "markdown",
   "id": "354bbaad-f4d0-46ec-8cb0-a6e0ac4717d4",
   "metadata": {
    "jp-MarkdownHeadingCollapsed": true,
    "tags": []
   },
   "source": [
    "## Import and Preprocess Cloud Datasets"
   ]
  },
  {
   "cell_type": "markdown",
   "id": "9c6d2807-fe30-43d4-ba92-cc9f85b5b8ed",
   "metadata": {},
   "source": [
    "The raw data for this analysis is accessible through publicly available cloud stores. ERA5 data, at its native hourly frequency and 0.25° x 0.25° spatial resolution, can be found on the LEAP Pangeo Data Catalog [here](https://catalog.leap.columbia.edu/feedstock/arco-era5). IMERG V06 data, provided at half-hourly frequency at 0.1° x 0.1° spatial resolution, can be accessed via Microsoft Planetary Computer [here](https://planetarycomputer.microsoft.com/dataset/gpm-imerg). GPCP data, available at daily frequency with 1.0° x 1.0° spatial resolution, is also hosted on the LEAP Pangeo Data Catalog [here](https://catalog.leap.columbia.edu/feedstock/global-precipitation-climatology-project). To efficiently handle these large datasets, the following functions lazily load all data using Xarray."
   ]
  },
  {
   "cell_type": "code",
   "execution_count": 3,
   "id": "a460b85c-348e-4619-a98e-a546808f3805",
   "metadata": {},
   "outputs": [],
   "source": [
    "def get_era5():\n",
    "    store = 'gs://gcp-public-data-arco-era5/ar/1959-2022-full_37-1h-0p25deg-chunk-1.zarr-v2/'\n",
    "    ds    = xr.open_zarr(store,decode_times=True)  \n",
    "    return ds\n",
    "\n",
    "def get_imerg():\n",
    "    store   = 'https://planetarycomputer.microsoft.com/api/stac/v1'\n",
    "    catalog = pystac.Client.open(store,modifier=planetary_computer.sign_inplace)\n",
    "    assets  = catalog.get_collection('gpm-imerg-hhr').assets['zarr-abfs']\n",
    "    ds      = xr.open_zarr(fsspec.get_mapper(assets.href,**assets.extra_fields['xarray:storage_options']),consolidated=True)\n",
    "    return ds\n",
    "\n",
    "def get_gpcp():\n",
    "    store = 'https://ncsa.osn.xsede.org/Pangeo/pangeo-forge/gpcp-feedstock/gpcp.zarr'\n",
    "    ds    = xr.open_dataset(store,engine='zarr',chunks={})   \n",
    "    return ds"
   ]
  },
  {
   "cell_type": "code",
   "execution_count": 4,
   "id": "1adfcfd5-f524-4691-b06c-3e3dca74547e",
   "metadata": {},
   "outputs": [],
   "source": [
    "era5data  = get_era5()\n",
    "imergdata = get_imerg()\n",
    "gpcpdata  = get_gpcp()"
   ]
  },
  {
   "cell_type": "markdown",
   "id": "d600f1c5-01e5-4319-a8bb-f72da8fa667b",
   "metadata": {},
   "source": [
    "The ```preprocess()``` function preprocesses each variable using the user-defined fields specified above. It executes two functions: one that standardizes dimensions across datasets, and another that subsets the time and space dimensions and specifies pressure levels to keep (if applicable)."
   ]
  },
  {
   "cell_type": "code",
   "execution_count": 5,
   "id": "c60071fa-6aa5-47f9-98b8-ad602dab0e8d",
   "metadata": {},
   "outputs": [],
   "source": [
    "def standardize_dims(ds):\n",
    "    dimnames = {'latitude':'lat','longitude':'lon','level':'lev'}\n",
    "    ds = ds.rename({oldname:newname for oldname,newname in dimnames.items() if oldname in ds.dims})\n",
    "    targetdims = ['lev','time','lat','lon'] if 'lev' in ds.dims else ['time','lat','lon']\n",
    "    extradims  = [dim for dim in ds.dims if dim not in targetdims]\n",
    "    if extradims:\n",
    "        ds = ds.drop_dims(extradims)\n",
    "    for dim in targetdims:\n",
    "        if dim=='time':\n",
    "            if ds.coords[dim].dtype.kind!='M':\n",
    "                ds.coords[dim] = ds.indexes[dim].to_datetimeindex()\n",
    "            ds = ds.sel(time=~ds.time.to_index().duplicated(keep='first'))\n",
    "        elif dim=='lon':\n",
    "            ds.coords[dim] = (ds.coords[dim]+180)%360-180        \n",
    "        elif dim!='time':\n",
    "            ds.coords[dim] = ds.coords[dim].astype(float)\n",
    "    ds = ds.sortby(targetdims).transpose(*targetdims)   \n",
    "    return ds\n",
    "\n",
    "def subset_data(ds,years=YEARS,months=MONTHS,latrange=LATRANGE,lonrange=LONRANGE,levrange=LEVRANGE):\n",
    "    ds = ds.sel(time=(ds['time.year'].isin(years))&(ds['time.month'].isin(months)))\n",
    "    ds = ds.sel(lat=slice(*latrange),lon=slice(*lonrange))\n",
    "    if 'lev' in ds.dims:\n",
    "        ds = ds.sel(lev=slice(*levrange))\n",
    "    return ds\n",
    "\n",
    "def preprocess(ds,years=YEARS,months=MONTHS,latrange=LATRANGE,lonrange=LONRANGE,levrange=LEVRANGE):\n",
    "    ds = standardize_dims(ds)\n",
    "    ds = subset_data(ds,years,months,latrange,lonrange,levrange)\n",
    "    return ds"
   ]
  },
  {
   "cell_type": "code",
   "execution_count": 6,
   "id": "9ca65b2e-90c2-49b2-a37b-bd537a413c59",
   "metadata": {},
   "outputs": [],
   "source": [
    "gpcp  = preprocess(gpcpdata)\n",
    "imerg = preprocess(imergdata)\n",
    "era5  = preprocess(era5data)"
   ]
  },
  {
   "cell_type": "markdown",
   "id": "7ad1ff5c-9e27-4ab4-970a-d103980780de",
   "metadata": {
    "jp-MarkdownHeadingCollapsed": true
   },
   "source": [
    "## Extract Necessary Variables"
   ]
  },
  {
   "cell_type": "markdown",
   "id": "2bca7bab-0969-4ec2-83a1-9e35fa3d3eb2",
   "metadata": {},
   "source": [
    "Only four variables are needed from across these three datasets: precipitation (in mm/day) from IMERG V06 and GPCP, and surface pressure (hPa), specific humidity (kg/kg), and temperature (K) from ERA5. Convert units as necessary, and remove unrealistic values. "
   ]
  },
  {
   "cell_type": "code",
   "execution_count": 7,
   "id": "daea4306-137e-4d43-b6ea-1860e89ed29a",
   "metadata": {},
   "outputs": [],
   "source": [
    "gpcpprdata  = gpcp.precip.where(gpcp.precip>=0,0)\n",
    "imergprdata = (imerg.precipitationCal).where(imerg.precipitationCal>=0,0)*24 # mm/hr to mm/day\n",
    "psdata = era5.surface_pressure/100 # Pa to hPa\n",
    "qdata  = era5.specific_humidity\n",
    "tdata  = era5.temperature"
   ]
  },
  {
   "cell_type": "markdown",
   "id": "ff17eea5-5295-42d0-a335-4bab94b28f6b",
   "metadata": {
    "jp-MarkdownHeadingCollapsed": true
   },
   "source": [
    "## Create Observational Baselines"
   ]
  },
  {
   "cell_type": "markdown",
   "id": "c5748135-3186-48c1-9360-f15b0c295d89",
   "metadata": {},
   "source": [
    "Our three datasets (ERA5, IMERG V05, and GPCP) have different temporal frequencies and spatial resolutions. To create consistent, analysis-ready data, we apply ```format_var()``` to individual variables, which regrids (using [xESMF](https://xesmf.readthedocs.io/en/stable/)) and temporally resamples the data as-needed, alongside standardizing their format and metadata. ```combine_vars()``` is then used to combine the processed variables into a single, cohesive dataset."
   ]
  },
  {
   "cell_type": "code",
   "execution_count": 8,
   "id": "3bd2e897-5c9b-404d-b615-7a3542ed4334",
   "metadata": {},
   "outputs": [],
   "source": [
    "def regrid_data(da,gridsource,gridtarget):\n",
    "    if not isinstance(gridsource,(xr.Dataset,xr.DataArray)):\n",
    "        raise TypeError(\"Input 'gridsource' must be an xarray Dataset or DataArray\")\n",
    "    if not isinstance(gridtarget,(xr.Dataset,xr.DataArray)):\n",
    "        raise TypeError(\"Input 'gridtarget' must be an xarray Dataset or DataArray\")\n",
    "    regridder = xesmf.Regridder(gridsource,gridtarget,method='bilinear')\n",
    "    return regridder(da)\n",
    "  \n",
    "def resample_data(da,frequency,method):\n",
    "    if frequency not in ['H','D']:\n",
    "        raise ValueError(\"Frequency must be 'H' (hourly) or 'D' (daily)\")\n",
    "    da.coords['time'] = da.time.dt.floor(frequency) \n",
    "    if method=='mean':\n",
    "        return da.groupby('time').mean()\n",
    "    elif method=='first':\n",
    "        return da.groupby('time').first()\n",
    "    elif method=='last':\n",
    "        return da.groupby('time').last()\n",
    "    else:\n",
    "        raise ValueError(\"Method must be 'mean', 'first', or 'last'\")\n",
    "\n",
    "def format_var(da,shortname,longname,units,gridsource=None,gridtarget=None,frequency=None,method=None):\n",
    "    if gridsource is not None and gridtarget is not None:\n",
    "        da = regrid_data(da,gridsource,gridtarget)\n",
    "    if frequency is not None and method is not None:\n",
    "        da = resample_data(da,frequency,method)\n",
    "    da = da.rename(shortname)\n",
    "    da.attrs.clear()\n",
    "    for coord in da.coords:\n",
    "        da[coord].attrs.clear()\n",
    "    da.attrs = dict(long_name=longname,units=units)\n",
    "    return da\n",
    "    \n",
    "def combine_vars(dalist,author=AUTHOR,email=EMAIL):\n",
    "    if not isinstance(dalist,list):\n",
    "        raise TypeError('Input must be a list of Xarray.DataArrays')\n",
    "    if not all(isinstance(da,xr.DataArray) for da in dalist):\n",
    "        raise TypeError('All elements in the input list must be Xarray.DataArrays')\n",
    "    ds = xr.merge(dalist)\n",
    "    ds.time.attrs = dict(long_name='Time')\n",
    "    ds.lat.attrs  = dict(long_name='Latitude',units='°N')\n",
    "    ds.lon.attrs  = dict(long_name='Longitude',units='°E')\n",
    "    if 'lev' in ds.dims:\n",
    "        ds.lev.attrs = dict(long_name='Pressure level',units='hPa')\n",
    "    ds.attrs = dict(history=f'Created on {datetime.today().strftime(\"%Y-%m-%d\")} by {author} ({email})')\n",
    "    print(f'Dataset Size: {ds.nbytes*1e-9:.2f} GB')\n",
    "    return ds"
   ]
  },
  {
   "cell_type": "markdown",
   "id": "bd276fed-03ad-42f9-a349-347b19384c42",
   "metadata": {
    "jp-MarkdownHeadingCollapsed": true
   },
   "source": [
    "### Create ERA5/IMERG Baseline"
   ]
  },
  {
   "cell_type": "markdown",
   "id": "ce889c6d-6c55-4abc-b30a-848d3b9ead57",
   "metadata": {},
   "source": [
    "Our high-resolution observational baseline features hourly data on a 0.25° x 0.25° grid. We use ERA5 variables at their native resolution and adjust IMERG VO6 precipitation to match, coarsening its grid and reducing its sampling frequency."
   ]
  },
  {
   "cell_type": "code",
   "execution_count": 10,
   "id": "1030440a-876a-41f2-9d0d-def215651bfa",
   "metadata": {},
   "outputs": [],
   "source": [
    "t  = format_var(tdata,shortname='t',longname='ERA5 air temperature',units='K')\n",
    "q  = format_var(qdata,shortname='q',longname='ERA5 specific humidity',units='kg/kg')\n",
    "ps = format_var(psdata,shortname='ps',longname='ERA5 surface pressure',units='hPa')\n",
    "pr = format_var(imergprdata,shortname='pr',longname='IMERG V06 precipitation rate',units='mm/day',\n",
    "                gridsource=imerg,gridtarget=era5,frequency='H',method='first')"
   ]
  },
  {
   "cell_type": "code",
   "execution_count": 11,
   "id": "9b13f83e-7330-48cc-988b-5d0c4dfdd2e3",
   "metadata": {},
   "outputs": [
    {
     "name": "stdout",
     "output_type": "stream",
     "text": [
      "Dataset Size: 61.81 GB\n"
     ]
    }
   ],
   "source": [
    "hiresds = combine_vars([t,q,ps,pr])"
   ]
  },
  {
   "cell_type": "markdown",
   "id": "8d222594-3d67-40b2-9a7b-0ec2da674522",
   "metadata": {
    "jp-MarkdownHeadingCollapsed": true
   },
   "source": [
    "### Create ERA5/GPCP Baseline"
   ]
  },
  {
   "cell_type": "markdown",
   "id": "9e5ceb86-6e07-4628-8150-871c10c30f2a",
   "metadata": {},
   "source": [
    "Our low-resolution observational baseline features daily mean data on a 1.0° x 1.0° grid. We use GPCP precipitation at its native resolution and adjust ERA5 variables to match."
   ]
  },
  {
   "cell_type": "code",
   "execution_count": 13,
   "id": "a822b4f7-3e5a-407d-9020-738eab69636d",
   "metadata": {},
   "outputs": [],
   "source": [
    "t  = format_var(tdata,shortname='t',longname='ERA5 air temperature',units='K',\n",
    "                gridsource=era5,gridtarget=gpcp,frequency='D',method='mean')\n",
    "q  = format_var(qdata,shortname='q',longname='ERA5 specific humidity',units='kg/kg',\n",
    "                gridsource=era5,gridtarget=gpcp,frequency='D',method='mean')\n",
    "ps = format_var(psdata,shortname='ps',longname='ERA5 surface pressure',units='hPa',\n",
    "                gridsource=era5,gridtarget=gpcp,frequency='D',method='mean')\n",
    "pr = format_var(gpcpprdata,shortname='pr',longname='GPCP precipitation rate',units='mm/day')"
   ]
  },
  {
   "cell_type": "code",
   "execution_count": 14,
   "id": "21e053f4-17eb-479b-8f3f-cc360235f604",
   "metadata": {},
   "outputs": [
    {
     "name": "stdout",
     "output_type": "stream",
     "text": [
      "Dataset Size: 0.17 GB\n"
     ]
    }
   ],
   "source": [
    "loresds = combine_vars([t,q,ps,pr])"
   ]
  },
  {
   "cell_type": "markdown",
   "id": "46cb9ec1-b257-40f4-a368-a28a15dd583a",
   "metadata": {
    "tags": []
   },
   "source": [
    "## Save Baseline Datasets"
   ]
  },
  {
   "cell_type": "markdown",
   "id": "a7031bd7-f13d-405e-b88f-7a640ffa7235",
   "metadata": {},
   "source": [
    "Save each baseline Xarray.Dataset as a netCDF file to the user-defined save directory (```SAVEDIR```)."
   ]
  },
  {
   "cell_type": "code",
   "execution_count": 18,
   "id": "ca45f0d1-bb43-48e4-acb1-858f0300e217",
   "metadata": {},
   "outputs": [],
   "source": [
    "def save(ds,filename,savedir=SAVEDIR):\n",
    "    filepath = f'{savedir}/{filename}'\n",
    "    ds.to_netcdf(filepath)"
   ]
  },
  {
   "cell_type": "code",
   "execution_count": null,
   "id": "82d135dd-bd36-4c1a-8858-b9bb7cba43f3",
   "metadata": {},
   "outputs": [],
   "source": [
    "%time save(loresds,'ERA5_GPCP.nc')  "
   ]
  },
  {
   "cell_type": "code",
   "execution_count": null,
   "id": "015825d3-83f8-412c-b979-de35735fc70d",
   "metadata": {},
   "outputs": [],
   "source": [
    "# %time save(hiresds,'ERA5_IMERG.nc')"
   ]
  }
 ],
 "metadata": {
  "kernelspec": {
   "display_name": "monsoon-pod",
   "language": "python",
   "name": "monsoon-pod"
  },
  "language_info": {
   "codemirror_mode": {
    "name": "ipython",
    "version": 3
   },
   "file_extension": ".py",
   "mimetype": "text/x-python",
   "name": "python",
   "nbconvert_exporter": "python",
   "pygments_lexer": "ipython3",
   "version": "3.9.12"
  }
 },
 "nbformat": 4,
 "nbformat_minor": 5
}
