{
 "cells": [
  {
   "cell_type": "markdown",
   "id": "44638179-a68f-449f-a259-9803d30b7d5b",
   "metadata": {
    "jp-MarkdownHeadingCollapsed": true,
    "tags": []
   },
   "source": [
    "## Import Necessary Packages"
   ]
  },
  {
   "cell_type": "code",
   "execution_count": 1,
   "id": "58562bca-eb03-45df-9ac4-1c885e4dd8bc",
   "metadata": {},
   "outputs": [],
   "source": [
    "import warnings\n",
    "import numpy as np\n",
    "import xarray as xr\n",
    "import proplot as pplt\n",
    "import matplotlib.patches as patches\n",
    "pplt.rc.reso='hi'\n",
    "warnings.filterwarnings('ignore')"
   ]
  },
  {
   "cell_type": "markdown",
   "id": "7ad75269-1ec3-4b52-a781-466e64dc2acd",
   "metadata": {
    "jp-MarkdownHeadingCollapsed": true,
    "tags": []
   },
   "source": [
    "## User-Defined Fields"
   ]
  },
  {
   "cell_type": "code",
   "execution_count": 2,
   "id": "7ae7cddd-2747-4eaa-8b87-ed59f34f901c",
   "metadata": {},
   "outputs": [],
   "source": [
    "REGIONS   = {\n",
    "    'Eastern Arabian Sea':{'latmin':9.,'latmax':18.,'lonmin':67.,'lonmax':72.5}, \n",
    "    'Central India':{'latmin':18.,'latmax':24.,'lonmin':76.,'lonmax':83.},\n",
    "    'Northern Bay of Bengal':{'latmin':18.,'latmax':21.5,'lonmin':87.5,'lonmax':90.},\n",
    "    'Central Bay of Bengal':{'latmin':8.5,'latmax':15.,'lonmin':86.,'lonmax':90.}} \n",
    "FILEDIR   = '/ocean/projects/atm200007p/sferrett/Repos/monsoon-pr/data/raw'\n",
    "SAVEDIR   = '/ocean/projects/atm200007p/sferrett/Repos/monsoon-pr/figs'\n",
    "LATRANGE  = (5.,25.)\n",
    "LONRANGE  = (60.,90.)\n",
    "STDTHRESH = 75."
   ]
  },
  {
   "cell_type": "markdown",
   "id": "9006fda7-a08f-4f13-9db9-e14405b2a1f5",
   "metadata": {
    "jp-MarkdownHeadingCollapsed": true,
    "tags": []
   },
   "source": [
    "## Import Data"
   ]
  },
  {
   "cell_type": "code",
   "execution_count": 3,
   "id": "5d3dbc9c-2fa2-47b2-8ce2-0d12b8b0fa34",
   "metadata": {},
   "outputs": [],
   "source": [
    "def open_dataset(filename,filedir=FILEDIR):\n",
    "    filepath = f'{filedir}/{filename}'\n",
    "    ds = xr.open_dataset(filepath)\n",
    "    return ds"
   ]
  },
  {
   "cell_type": "code",
   "execution_count": 4,
   "id": "42ae1bf3-ba1a-4911-b14c-68e2f5d1c8f7",
   "metadata": {},
   "outputs": [],
   "source": [
    "data = open_dataset('IMERG_precipitation_flux.nc')"
   ]
  },
  {
   "cell_type": "markdown",
   "id": "72276eee-6373-490d-adde-9d9bbf36fbd7",
   "metadata": {
    "jp-MarkdownHeadingCollapsed": true,
    "tags": []
   },
   "source": [
    "## Get Monthly Means and Standard Deviations"
   ]
  },
  {
   "cell_type": "code",
   "execution_count": 5,
   "id": "ee19b44c-d819-4a43-afa5-d6a1e842e8df",
   "metadata": {},
   "outputs": [],
   "source": [
    "pr  = data.pr.groupby('time.month').mean(dim='time')\n",
    "std = data.pr.groupby('time.month').std(dim='time')"
   ]
  },
  {
   "cell_type": "code",
   "execution_count": 6,
   "id": "bf437cf5-cde7-4ad0-9fb9-17ab35ac27f5",
   "metadata": {},
   "outputs": [],
   "source": [
    "prdiff  = pr.isel(month=1)-pr.isel(month=0)\n",
    "stdmask = std > np.percentile(std,STDTHRESH)"
   ]
  },
  {
   "cell_type": "markdown",
   "id": "87bc2d07-b0fc-4997-8871-1ae61a527cea",
   "metadata": {
    "tags": []
   },
   "source": [
    "## Plot"
   ]
  },
  {
   "cell_type": "code",
   "execution_count": 95,
   "id": "3ebe73d9-1666-4054-a6f9-2866f9b65777",
   "metadata": {},
   "outputs": [],
   "source": [
    "def format_axs(axs):\n",
    "    axs.format(\n",
    "        collabels=['June','July','August','July - June'],\n",
    "        coast=True,\n",
    "        latlim=LATRANGE,\n",
    "        latlines=5,\n",
    "        lonlim=LONRANGE,\n",
    "        lonlines=5,\n",
    "        lonlabels=True)\n",
    "    axs[0].format(latlabels=True)\n",
    "\n",
    "def make_patch(lonmin,lonmax,latmin,latmax):\n",
    "    patchkwargs = dict(edgecolor='k',facecolor='none',linewidth=1)\n",
    "    return patches.Rectangle((lonmin,latmin),lonmax-lonmin,latmax-latmin,**patchkwargs)\n",
    "\n",
    "def add_region_patches(axs,patchkwargs,regions=REGIONS):\n",
    "    for region in regions.values():\n",
    "        for ax in axs:\n",
    "            ax.add_patch(make_patch(region['lonmin'],region['lonmax'],region['latmin'],region['latmax']))\n",
    "\n",
    "def plot_monthly_pr(axs,pr,mask,prkwargs,maskkwargs):\n",
    "    for i,ax in enumerate(axs):\n",
    "        monthlypr   = pr.isel(month=i)\n",
    "        monthlymask = np.ma.masked_where(~mask.isel(month=i),monthlypr)\n",
    "        m = ax.contourf(monthlypr,**prkwargs)\n",
    "        ax.contourf(monthlymask,**maskkwargs)\n",
    "    axs[-1].colorbar(m,loc='r',ticks=3,label='Precipitation (mm/day)')\n",
    "\n",
    "def plot_diff(ax,prdiff,diffkwargs,divkwargs):\n",
    "    m = ax.contourf(prdiff,**diffkwargs)\n",
    "    ax.contour(prdiff,**divkwargs)\n",
    "    ax.colorbar(m,loc='r',ticks=3,label='$\\Delta$Precipitation (mm/day)')"
   ]
  },
  {
   "cell_type": "code",
   "execution_count": 96,
   "id": "18414317-be72-4bbf-910a-c48974cc59e3",
   "metadata": {},
   "outputs": [],
   "source": [
    "patchkwargs = dict(edgecolor='k',facecolor='none',linewidth=1)\n",
    "prkwargs    = dict(cmap='ColdHot_r',cmap_kw={'left':0.5},vmin=0,vmax=18,levels=19,extend='max')\n",
    "maskkwargs  = dict(levels=[0,np.max(pr)],hatches=['///////'],alpha=0,colors='none')\n",
    "diffkwargs  = dict(cmap='ColdHot_r',vmin=-9,vmax=9,levels=22,extend='both')\n",
    "divkwargs   = dict(levels=[0],color='k',linewidth=0.5,linestyle='--')"
   ]
  },
  {
   "cell_type": "code",
   "execution_count": null,
   "id": "da4d49f7-5474-4f41-bb4b-824e8b4fedb8",
   "metadata": {},
   "outputs": [],
   "source": [
    "fig,axs = pplt.subplots(nrows=1,ncols=4,proj='cyl')\n",
    "format_axs(axs)\n",
    "add_region_patches(axs,patchkwargs)\n",
    "plot_monthly_pr(axs[:3],pr,stdmask,prkwargs,maskkwargs)\n",
    "plot_diff(axs[3],prdiff,diffkwargs,divkwargs)\n",
    "pplt.show()\n",
    "fig.save(f'{SAVEDIR}/fig_1.png',dpi=300)"
   ]
  }
 ],
 "metadata": {
  "kernelspec": {
   "display_name": "monsoon-pr",
   "language": "python",
   "name": "monsoon-pr"
  },
  "language_info": {
   "codemirror_mode": {
    "name": "ipython",
    "version": 3
   },
   "file_extension": ".py",
   "mimetype": "text/x-python",
   "name": "python",
   "nbconvert_exporter": "python",
   "pygments_lexer": "ipython3",
   "version": "3.9.12"
  }
 },
 "nbformat": 4,
 "nbformat_minor": 5
}
