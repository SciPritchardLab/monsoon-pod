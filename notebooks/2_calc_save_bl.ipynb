{
 "cells": [
  {
   "cell_type": "markdown",
   "id": "3bbcce5b-96a2-4ed2-8dbd-f379f96050f9",
   "metadata": {},
   "source": [
    "## Calculate Precipitation-Buoyancy POD"
   ]
  },
  {
   "cell_type": "markdown",
   "id": "eb31bb40-5117-454b-9fa5-761a763fa709",
   "metadata": {},
   "source": [
    "This notebook calculates the precipitation-buoyancy relationship POD as defined in [Ahmed and Neelin (2021)](https://agupubs.onlinelibrary.wiley.com/doi/full/10.1029/2021GL094108)."
   ]
  },
  {
   "cell_type": "markdown",
   "id": "ed14dd05-dcce-4ebc-b47f-219b15793719",
   "metadata": {
    "jp-MarkdownHeadingCollapsed": true,
    "tags": []
   },
   "source": [
    "## Import Necessary Packages"
   ]
  },
  {
   "cell_type": "code",
   "execution_count": null,
   "id": "02fa890e-3ecf-49dc-ad60-c164d9505e60",
   "metadata": {},
   "outputs": [],
   "source": [
    "import glob\n",
    "import warnings\n",
    "import numpy as np\n",
    "import xarray as xr\n",
    "from datetime import datetime\n",
    "warnings.filterwarnings('ignore')"
   ]
  },
  {
   "cell_type": "markdown",
   "id": "02204ee1-1fd0-44e4-bf46-627d4074aa3f",
   "metadata": {
    "jp-MarkdownHeadingCollapsed": true,
    "tags": []
   },
   "source": [
    "## User-Defined Fields"
   ]
  },
  {
   "cell_type": "code",
   "execution_count": null,
   "id": "cc6df809-2e34-48a0-b2dc-50b9b332e578",
   "metadata": {},
   "outputs": [],
   "source": [
    "AUTHOR   = 'Savannah L. Ferretti'\n",
    "EMAIL    = 'savannah.ferretti@uci.edu'\n",
    "FILEDIR  = '/ocean/projects/atm200007p/sferrett/Repos/monsoon-pr/data/raw'\n",
    "SAVEDIR  = '/ocean/projects/atm200007p/sferrett/Repos/monsoon-pr/data/processed'"
   ]
  },
  {
   "cell_type": "markdown",
   "id": "5c8297df-306d-4465-9c7f-5eb3a6d6cd2c",
   "metadata": {
    "jp-MarkdownHeadingCollapsed": true,
    "tags": []
   },
   "source": [
    "## Load Variables"
   ]
  },
  {
   "cell_type": "markdown",
   "id": "d99162b3-f98e-4c17-ab11-9ad9ed798589",
   "metadata": {},
   "source": [
    "Load in preprocessed precipitation (mm/day), surface pressure ($p_s$, hPa), temperature ($T$, K), and specific humidity ($q$, kg/kg) data. Create a 4D pressure ($p$, hPa) dataset from the levels that $T$ and $q$ are available on."
   ]
  },
  {
   "cell_type": "code",
   "execution_count": null,
   "id": "958df7c0-f150-4181-ae73-69e7bb2a5b92",
   "metadata": {},
   "outputs": [],
   "source": [
    "def load_variable(filename,filedir=FILEDIR):\n",
    "    filepath = f'{filedir}/{filename}.nc'\n",
    "    data = xr.open_dataset(filepath)\n",
    "    return data.load()"
   ]
  },
  {
   "cell_type": "code",
   "execution_count": null,
   "id": "c079baed-6d6f-4aae-a593-8ad161269c6a",
   "metadata": {},
   "outputs": [],
   "source": [
    "pr = load_variable('IMERG_precipitation_flux.nc').pr\n",
    "ps = load_variable('ERA5_surface_pressure.nc').ps\n",
    "t  = load_variable('ERA5_temperature.nc').t\n",
    "q  = load_variable('ERA5_specific_humidity.nc').q\n",
    "p  = (t.lev).expand_dims({'time':t.time,'lat':t.lat,'lon':t.lon},(1,2,3))"
   ]
  },
  {
   "cell_type": "markdown",
   "id": "64764028-4b96-4374-be05-9908a5ce6676",
   "metadata": {
    "jp-MarkdownHeadingCollapsed": true,
    "tags": []
   },
   "source": [
    "## Calculate Equivalent Potential Temperature"
   ]
  },
  {
   "cell_type": "markdown",
   "id": "e7f4d471-6b84-4188-857b-c031a6010fbe",
   "metadata": {},
   "source": [
    "```calc_thetae()``` calculates equivalent potential temperature ($\\theta_e$, K) following [Bolton (1980)](https://journals.ametsoc.org/view/journals/mwre/108/7/1520-0493_1980_108_1046_tcoept_2_0_co_2.xml?tab_body=pdf) Equation 43 (where $T_L$ is given by Equation 55):\n",
    "    \n",
    "$$ \\theta_e = T\\left(\\frac{1000}{p}\\right)^{0.2854\\left(1-0.28 \\times 10^{-3}r\\right)} \\times \\text{ exp}\\left[\\left(\\frac{3.376}{T_L}-0.00254\\right) \\times r\\left(1+0.81 \\times 10^{-3}r\\right)\\right]$$\n",
    "\n",
    "Saturated equivalent potential temperature ($\\theta^*_e$) is calculated by substituting $q$ for its saturated counterpart ($q_s$). It is calculated following Equation 4 from [Plymouth State Weather Center (2018)](https://vortex.plymouth.edu/~stmiller/stmiller_content/Publications/AtmosRH_Equations_Rev.pdf), where saturation vapor pressure ($e_s$, hPa) is calculated following Equations 17 and 18 from [Kuang (2018)](https://journals.ametsoc.org/view/journals/apme/57/6/jamc-d-17-0334.1.xml)"
   ]
  },
  {
   "cell_type": "code",
   "execution_count": null,
   "id": "fc89fa2d-bbad-4fae-a5e7-7e02658b0bad",
   "metadata": {},
   "outputs": [],
   "source": [
    "# def calc_es(t):\n",
    "#     c0 = 0.6105851e+03\n",
    "#     c1 = 0.4440316e+02\n",
    "#     c2 = 0.1430341e+01\n",
    "#     c3 = 0.2641412e-01\n",
    "#     c4 = 0.2995057e-03\n",
    "#     c5 = 0.2031998e-05\n",
    "#     c6 = 0.6936113e-08\n",
    "#     c7 = 0.2564861e-11\n",
    "#     c8 = -.3704404e-13\n",
    "#     tc = t-273.15\n",
    "#     bolton = 6.112*np.exp(17.67*tc/(243.5+tc))\n",
    "#     poly   = (c0+tc*(c1+tc*(c2+tc*(c3+tc*(c4+tc*(c5+tc*(c6+tc*(c7+tc*c8))))))))/100. # Pa to hPa\n",
    "#     es = np.where(tc<-80.,bolton,poly)\n",
    "#     return es\n",
    "\n",
    "def calc_es(t):\n",
    "    tc = t-273.15\n",
    "    eswat = np.exp(34.494-(4924.99/(tc+237.1)))/((tc+105.)**1.57)\n",
    "    esice = np.exp(43.494-(6545.8/(tc+278.)))/((tc+868.)**2)\n",
    "    es = (np.where(tc>0.,esw,esi)) \n",
    "    es = es/100. # Pa to hPa\n",
    "    return es\n",
    "\n",
    "def calc_qs(p,t):\n",
    "    rv = 461.50   \n",
    "    rd = 287.04    \n",
    "    es = calc_es(t) \n",
    "    epsilon = rd/rv\n",
    "    qs = (epsilon*es)/(p-es*(1.-epsilon))\n",
    "    return qs\n",
    "\n",
    "\n",
    "def calc_thetae(p,t,q):\n",
    "    p0 = 1000.  \n",
    "    rv = 461.5  \n",
    "    rd = 287.04\n",
    "    epsilon = rd/rv\n",
    "    r  = q/(1.-q) \n",
    "    e  = (t.lev*r)/(epsilon+r)\n",
    "    tl = 2840./(3.5*np.log(t)-np.log(e)-4.805)+55.\n",
    "    thetae = t*(p0/p)**(0.2854*(1.-0.28*r))*np.exp((3.376/tl-0.00254)*1000.*r*(1.+0.81*r))\n",
    "    return thetae"
   ]
  },
  {
   "cell_type": "code",
   "execution_count": null,
   "id": "709728dd-a63b-4dd3-8797-2a3cb4e576ec",
   "metadata": {},
   "outputs": [],
   "source": [
    "qs = calc_qs(p,t)\n",
    "thetae  = calc_thetae(p,t,q)\n",
    "thetaes = calc_thetae(p,t,qs)"
   ]
  },
  {
   "cell_type": "markdown",
   "id": "b1ab8325-d946-483a-9006-340ab2129531",
   "metadata": {
    "jp-MarkdownHeadingCollapsed": true,
    "tags": []
   },
   "source": [
    "## Calculate Layer Averages"
   ]
  },
  {
   "cell_type": "markdown",
   "id": "04740cbf-0418-440e-be17-f2665a352732",
   "metadata": {},
   "source": [
    "The boundary layer is defined as a 100 hPa thick layer above the surface, and the lower free-troposphere is defined as the layer extending from the top of the boundary layer to 500 hPa."
   ]
  },
  {
   "cell_type": "code",
   "execution_count": null,
   "id": "e869cd38-658c-4e88-94c5-ee8f9fe7ee3e",
   "metadata": {},
   "outputs": [],
   "source": [
    "pbltop = ps-100.\n",
    "lfttop = xr.full_like(ps,500.) "
   ]
  },
  {
   "cell_type": "markdown",
   "id": "d5066eba-1f50-4fb9-893b-99a330728b76",
   "metadata": {},
   "source": [
    "Calculate the average $\\theta_e$ over the boundary layer ($\\theta_{eB}$) and lower free-troposphere ($\\theta_{eL}$),  as well as ${\\theta^*_e}$ over the lower-free troposphere (${\\theta^*_{eL}}$). ```get_p_above()``` and ```get_p_below()``` finds the bounds of the specified atmospheric layer, and ```calc_layer_average()``` uses numerical integration to calculates the average within that layer."
   ]
  },
  {
   "cell_type": "code",
   "execution_count": null,
   "id": "cf45c44f-5cf3-4ace-9873-66534bbb03b8",
   "metadata": {},
   "outputs": [],
   "source": [
    "def get_p_above(a,levels,side):\n",
    "    idx    = np.searchsorted(levels,a,side=side)\n",
    "    pabove = levels[np.maximum(idx-1,0)]\n",
    "    return pabove\n",
    "\n",
    "def get_p_below(a,levels,side):\n",
    "    idx    = np.searchsorted(levels,a,side=side)\n",
    "    pbelow = levels[np.minimum(idx,len(levels)-1)]\n",
    "    return pbelow\n",
    "\n",
    "def calc_layer_average(data,a,b):\n",
    "    a,b,data = a.load(),b.load(),data.load()\n",
    "    pabove = xr.apply_ufunc(get_p_above,a,kwargs={'levels':np.array(data.lev),'side':'right'})\n",
    "    pbelow = xr.apply_ufunc(get_p_below,a,kwargs={'levels':np.array(data.lev),'side':'right'})\n",
    "    fabove = data.sel({'lev':pabove})\n",
    "    fbelow = data.sel({'lev':pbelow})\n",
    "    correction = -fabove/2*(pbelow-pabove)*(a<data.lev[-1])\n",
    "    pbelow += (pbelow==pabove) \n",
    "    belowintegral = (a-pabove)*fabove+(fbelow-fabove)*(a-pabove)**2/(pbelow-pabove)/2+correction\n",
    "    innerintegral = (data*(data.lev<=a)*(data.lev>=b)).integrate('lev')\n",
    "    pabove = xr.apply_ufunc(get_p_above,b,kwargs={'levels':np.array(data.lev),'side':'left'})\n",
    "    pbelow = xr.apply_ufunc(get_p_below,b,kwargs={'levels':np.array(data.lev),'side':'left'})\n",
    "    fabove = data.sel({'lev':pabove})\n",
    "    fbelow = data.sel({'lev':pbelow})\n",
    "    correction = -fbelow/2*(pbelow-pabove)*(b>data.lev[0])\n",
    "    pabove -= (pbelow==pabove) \n",
    "    aboveintegral = (pbelow-b)*fabove+(fbelow-fabove)*(pbelow-pabove)*(1-((b-pabove)/(pbelow-pabove))**2)/2+correction\n",
    "    layeraverage  = (belowintegral+innerintegral+aboveintegral)/(a-b)\n",
    "    return layeraverage"
   ]
  },
  {
   "cell_type": "code",
   "execution_count": null,
   "id": "ff408a67-7197-4224-b109-1d98c9d815c7",
   "metadata": {},
   "outputs": [],
   "source": [
    "thetaeb  = get_layer_average(thetae,ps,pbltop)*np.sqrt(-1+2*(ps>lfttop))\n",
    "thetael  = get_layer_average(thetae,pbltop,lfttop)\n",
    "thetaels = get_layer_average(thetaes,pbltop,lfttop)"
   ]
  },
  {
   "cell_type": "markdown",
   "id": "093a054d-c9af-41e0-b730-ab79cc3e80b3",
   "metadata": {
    "jp-MarkdownHeadingCollapsed": true,
    "tags": []
   },
   "source": [
    "## Calculate $B_L$"
   ]
  },
  {
   "cell_type": "markdown",
   "id": "7db95c2a-f68c-4d4e-bb9f-955929907812",
   "metadata": {},
   "source": [
    "The weighted contributions of the boundary layer ($w_B$) and lower free-troposphere ($w_L$) are calculated following [Adames et al. (2021)](https://journals.ametsoc.org/view/journals/atsc/78/2/jas-d-20-0074.1.xml) Equations 5a and 5b:\n",
    "\n",
    "$$ w_B = \\frac{\\Delta p_B}{\\Delta p_L} \\ln{\\left(1 + \\frac{\\Delta p_L}{\\Delta p_B}\\right)} $$\n",
    "\n",
    "$$ w_L = 1 - w_B $$"
   ]
  },
  {
   "cell_type": "code",
   "execution_count": null,
   "id": "e3c8b871-54b7-4fea-9d10-5cb2425583a9",
   "metadata": {},
   "outputs": [],
   "source": [
    "def calc_wb(ps,pbltop,lfttop):\n",
    "    pblthickness = ps-pbltop\n",
    "    lftthickness = pbltop-lfttop\n",
    "    wb = (pblthickness/lftthickness)*np.log((pblthickness+lftthickness)/pblthickness)\n",
    "    return wb"
   ]
  },
  {
   "cell_type": "code",
   "execution_count": null,
   "id": "fd359601-bd73-4054-9f6a-2714b2c60830",
   "metadata": {},
   "outputs": [],
   "source": [
    "wb = calc_wb(ps,pbltop,lfttop)\n",
    "wl = 1-wb  "
   ]
  },
  {
   "cell_type": "markdown",
   "id": "707fd8ac-6015-44e0-86d5-07bc45427a06",
   "metadata": {},
   "source": [
    "Following [Ahmed and Neelin (2021)](https://agupubs.onlinelibrary.wiley.com/doi/full/10.1029/2021GL094108) Equation 1, average buoyancy in the lower troposphere ($B_L$) is calculated as:\n",
    "\n",
    "$$ B_L = \\frac{g}{\\overline{\\kappa}_L\\theta_{e0}}\\left[w_B\\underbrace{\\left(\\frac{\\theta_{eB}-\\theta^{*}_{eL}}{\\theta^{*}_{eL}}\\right)\\theta_{e0}}_{\\mathrm{CAPE_L}} - w_L\\underbrace{\\left(\\frac{\\theta^{*}_{eL}-\\theta_{eL}}{\\theta^{*}_{eL}}\\right)\\theta_{e0}}_{\\mathrm{SUBSAT_L}}\\right] $$"
   ]
  },
  {
   "cell_type": "code",
   "execution_count": null,
   "id": "693c0de6-5808-4cf0-9d75-45b5d3456813",
   "metadata": {},
   "outputs": [],
   "source": [
    "thetae0 = 340. \n",
    "cape    = ((thetaeb-thetaels)/thetaels)*thetae0\n",
    "subsat  = ((thetaels-thetael)/thetaels)*thetae0\n",
    "bl      = (9.81/(3.*thetae0))*((wb*cape)-(wl*subsat))"
   ]
  },
  {
   "cell_type": "markdown",
   "id": "83179c93-2440-4ae3-a006-eb9163a6cb66",
   "metadata": {
    "jp-MarkdownHeadingCollapsed": true,
    "tags": []
   },
   "source": [
    "## Save Dataset"
   ]
  },
  {
   "cell_type": "markdown",
   "id": "bf9e4ddf-0e9b-4e2c-92c7-2b2c4119007b",
   "metadata": {},
   "source": [
    "Put all variables into a singular Xarray.Dataset, and save as a netCDF file to the user-defined save directory (```SAVEDIR```)."
   ]
  },
  {
   "cell_type": "code",
   "execution_count": null,
   "id": "b9a68a77-9b86-492b-8f0d-ddec5a98b951",
   "metadata": {},
   "outputs": [],
   "source": [
    "def dataset(wb,wl,cape,subsat,bl,pr,author=AUTHOR,email=EMAIL):\n",
    "    vardata = {'wb':([*wb.dims],wb.data),\n",
    "               'wl':([*wl.dims],wl.data),\n",
    "               'cape':([*cape.dims],cape.data),\n",
    "               'subsat':([*subsat.dims],subsat.data),\n",
    "               'bl':([*bl.dims],bl.data),\n",
    "               'pr':([*pr.dims],pr.data)}\n",
    "    coords  = {'time':bl.time.data,'lat':bl.lat.data,'lon':bl.lon.data}\n",
    "    ds = xr.Dataset(vardata,coords)\n",
    "    ds.wb.attrs     = dict(long_name='Fractional contribution of the boundary layer',units='0-1')\n",
    "    ds.wl.attrs     = dict(long_name='Fractional contribution of the lower free-troposphere',units='0-1')\n",
    "    ds.cape.attrs   = dict(long_name='Undilute plume buoyancy',units='K')\n",
    "    ds.subsat.attrs = dict(long_name='Subsaturation in the lower-free troposphere',units='K')\n",
    "    ds.bl.attrs     = dict(long_name='Average buoyancy in the lower troposphere',units='m/s²')\n",
    "    ds.pr.attrs     = dict(long_name='Precipitation flux',units='mm/day')\n",
    "    ds.time.attrs   = dict(long_name='Time')\n",
    "    ds.lat.attrs    = dict(long_name='Latitude',units='$^\\circ$N')\n",
    "    ds.lon.attrs    = dict(long_name='Longitude',units='$^\\circ$E')\n",
    "    ds.attrs        = dict(description='Calculated following Ahmed & Neelin (2021) Eq. 1',\n",
    "                           history=f'Created on {datetime.today().strftime(\"%Y-%m-%d\")} by {author} ({email})')\n",
    "    return ds\n",
    "\n",
    "def save(ds,filename,savedir=SAVEDIR):\n",
    "    filepath = f'{savedir}/{filename}'\n",
    "    ds.to_netcdf(filepath)"
   ]
  },
  {
   "cell_type": "code",
   "execution_count": null,
   "id": "e44789f1-c2d0-4467-adb1-0711077fd096",
   "metadata": {},
   "outputs": [],
   "source": [
    "ds = dataset(wb,wl,cape,subsat,bl,pr)\n",
    "save(ds,'OBS_bl_pr_POD.nc')"
   ]
  }
 ],
 "metadata": {
  "kernelspec": {
   "display_name": "monsoon-pr",
   "language": "python",
   "name": "monsoon-pr"
  },
  "language_info": {
   "codemirror_mode": {
    "name": "ipython",
    "version": 3
   },
   "file_extension": ".py",
   "mimetype": "text/x-python",
   "name": "python",
   "nbconvert_exporter": "python",
   "pygments_lexer": "ipython3",
   "version": "3.9.12"
  }
 },
 "nbformat": 4,
 "nbformat_minor": 5
}
