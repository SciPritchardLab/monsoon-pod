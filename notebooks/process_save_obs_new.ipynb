{
 "cells": [
  {
   "cell_type": "code",
   "execution_count": 1,
   "id": "b2d45e51-9b22-4abf-88e9-139671cf588c",
   "metadata": {},
   "outputs": [],
   "source": [
    "import sys\n",
    "import dask\n",
    "import warnings\n",
    "warnings.filterwarnings('ignore')\n",
    "sys.path.append('/ocean/projects/atm200007p/sferrett/Repos/monsoon-pr/scripts/')\n",
    "from preprocessing_utils import *"
   ]
  },
  {
   "cell_type": "code",
   "execution_count": 2,
   "id": "bc6926f5-fb17-4476-b92b-4a8ff0cf8a4a",
   "metadata": {},
   "outputs": [],
   "source": [
    "AUTHOR   = 'Savannah L. Ferretti'\n",
    "EMAIL    = 'savannah.ferretti@uci.edu'\n",
    "SAVEDIR  = '/ocean/projects/atm200007p/sferrett/Repos/monsoon-pr/data/raw'\n",
    "YEARS    = [2000,2001,2002,2003,2004,2005,2006,2007,2008,2009,2010,2011,2012,2013,2014]\n",
    "MONTHS   = [6,7,8]\n",
    "LATRANGE = (5.,25.) \n",
    "LONRANGE = (60.,90.)\n",
    "LEVRANGE = (500.,1000.)\n",
    "FREQUENCY = 'H'"
   ]
  },
  {
   "cell_type": "code",
   "execution_count": 3,
   "id": "5ca29e22-1219-4992-8629-139bcf62d840",
   "metadata": {},
   "outputs": [],
   "source": [
    "era5  = get_era5()\n",
    "imerg = get_imerg()"
   ]
  },
  {
   "cell_type": "code",
   "execution_count": 5,
   "id": "4cd60590-db89-4aa7-9abd-30361467dfc0",
   "metadata": {},
   "outputs": [],
   "source": [
    "qdata  = era5.specific_humidity\n",
    "tdata  = era5.temperature\n",
    "psdata = era5.surface_pressure/100 # Convert from Pa to hPa\n",
    "prdata = imerg.precipitationCal*24 # Convert from mm/hr to mm/day"
   ]
  },
  {
   "cell_type": "code",
   "execution_count": 6,
   "id": "39902bad-7fe4-4e8e-b791-0a2c66f283c0",
   "metadata": {},
   "outputs": [],
   "source": [
    "variables = [\n",
    "    (qdata,'q','Specific humidity','kg/kg','ERA5'),\n",
    "    (tdata,'t','Air temperature','K','ERA5'),\n",
    "    (psdata,'ps','Surface pressure','hPa','ERA5'),\n",
    "    (prdata,'pr','Precipitation flux','mm/day','IMERG V06')]"
   ]
  },
  {
   "cell_type": "code",
   "execution_count": 7,
   "id": "97ef1e96-b0ea-4505-9d36-d1f76bf4d251",
   "metadata": {},
   "outputs": [],
   "source": [
    "@dask.delayed\n",
    "def preprocess(data,shortname,longname,units,source,\n",
    "               years=YEARS,months=MONTHS,frequency=FREQUENCY,\n",
    "               latrange=LATRANGE,lonrange=LONRANGE,levrange=LEVRANGE,\n",
    "               author=AUTHOR,email=EMAIL,savedir=SAVEDIR):\n",
    "    data = standardize_dims(data)\n",
    "    data = subset_dims(data,years,months,latrange,lonrange,levrange)\n",
    "    if xr.infer_freq(data.time) != frequency:\n",
    "        data = resample_time(data,frequency)\n",
    "    newdata  = create_dataset(data,shortname,longname,units,source,author,email)\n",
    "    save_dataset(newdata,savedir)"
   ]
  },
  {
   "cell_type": "code",
   "execution_count": 9,
   "id": "26d6ef05-ba01-4505-b0cc-02ff0116016f",
   "metadata": {},
   "outputs": [
    {
     "name": "stderr",
     "output_type": "stream",
     "text": [
      "\n",
      "KeyboardInterrupt\n",
      "\n"
     ]
    }
   ],
   "source": [
    "tasks = [preprocess(data,shortname,longname,units,source) for data,shortname,longname,units,source in variables]\n",
    "dask.compute(*tasks)"
   ]
  }
 ],
 "metadata": {
  "kernelspec": {
   "display_name": "monsoon-pr",
   "language": "python",
   "name": "monsoon-pr"
  },
  "language_info": {
   "codemirror_mode": {
    "name": "ipython",
    "version": 3
   },
   "file_extension": ".py",
   "mimetype": "text/x-python",
   "name": "python",
   "nbconvert_exporter": "python",
   "pygments_lexer": "ipython3",
   "version": "3.9.12"
  }
 },
 "nbformat": 4,
 "nbformat_minor": 5
}
